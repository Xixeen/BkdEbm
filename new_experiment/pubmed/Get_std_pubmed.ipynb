{
 "cells": [
  {
   "cell_type": "code",
   "execution_count": 4,
   "id": "52be1586",
   "metadata": {},
   "outputs": [],
   "source": [
    "import collections\n",
    "import matplotlib.pyplot as plt\n",
    "import numpy as np\n",
    "\n",
    "def get_data_with_std(file_name):\n",
    "    a = open(file_name, 'r')\n",
    "    train_loss = collections.defaultdict(list)\n",
    "    train_acc = collections.defaultdict(list)\n",
    "    val_loss = collections.defaultdict(list)\n",
    "    val_acc = collections.defaultdict(list)\n",
    "    test_loss = []\n",
    "    test_acc = []\n",
    "    count = 0\n",
    "    for line in a:\n",
    "        line = line.split()\n",
    "        if line[1] == 'train':\n",
    "            train_loss[int(line[0])] += [float(line[2])]\n",
    "            train_acc[int(line[0])] += [float(line[3])]\n",
    "        elif line[1] == 'val':\n",
    "            val_loss[int(line[0])] += [float(line[2])]\n",
    "            val_acc[int(line[0])] += [float(line[3])]\n",
    "        elif line[1] == 'test':\n",
    "            test_loss += [float(line[2])]\n",
    "            test_acc += [float(line[3])]\n",
    "            count += 1\n",
    "        else:\n",
    "            print(\"error\")\n",
    "    a.close()\n",
    "    for key in train_loss.keys():\n",
    "        train_loss[key] = np.mean(train_loss[key])\n",
    "        train_acc[key] = np.mean(train_acc[key])\n",
    "        val_loss[key] = np.mean(val_loss[key])\n",
    "        val_acc[key]  = np.mean(val_acc[key])\n",
    "    \n",
    "    #donot switch the order\n",
    "    test_loss_std = np.std(test_loss)\n",
    "    test_acc_std = np.std(test_acc)\n",
    "    \n",
    "    test_loss = np.mean(test_loss)\n",
    "    test_acc = np.mean(test_acc)\n",
    "    \n",
    "    \n",
    "    \n",
    "    return train_loss, train_acc, val_loss, val_acc, test_loss, test_acc, test_loss_std, test_acc_std"
   ]
  },
  {
   "cell_type": "code",
   "execution_count": 5,
   "id": "13ecd05b",
   "metadata": {},
   "outputs": [
    {
     "name": "stdout",
     "output_type": "stream",
     "text": [
      "[0.075  0.0344 0.009  0.0276 0.0115]\n"
     ]
    }
   ],
   "source": [
    "test_acc_std_list = []\n",
    "\n",
    "file_name = \"real_pubmed_IID_centralized_GCN_iter_300\"\n",
    "train_loss, train_acc, val_loss, val_acc, test_loss, test_acc, test_loss_std, test_acc_std = get_data_with_std(file_name)\n",
    "test_acc_std_list.append(test_acc_std)\n",
    "\n",
    "\n",
    "file_name = \"real_pubmed_IID_1.0_Block_federated_GCN_iter_300_epoch_3_device_num_3\"\n",
    "train_loss, train_acc, val_loss, val_acc, test_loss, test_acc, test_loss_std, test_acc_std = get_data_with_std(file_name)\n",
    "test_acc_std_list.append(test_acc_std)\n",
    "\n",
    "file_name = \"real_pubmed_IID_1.0_1hop_BDS_GCN_iter_300_epoch_3_device_num_3\"\n",
    "train_loss, train_acc, val_loss, val_acc, test_loss, test_acc, test_loss_std, test_acc_std = get_data_with_std(file_name)\n",
    "test_acc_std_list.append(test_acc_std)\n",
    "\n",
    "file_name = \"real_pubmed_IID_1.0_1hop_Block_federated_GCN_iter_300_epoch_3_device_num_3\"\n",
    "train_loss, train_acc, val_loss, val_acc, test_loss, test_acc, test_loss_std, test_acc_std = get_data_with_std(file_name)\n",
    "test_acc_std_list.append(test_acc_std)\n",
    "\n",
    "file_name = \"real_pubmed_IID_1.0_2hop_Block_federated_GCN_iter_300_epoch_3_device_num_3\"\n",
    "train_loss, train_acc, val_loss, val_acc, test_loss, test_acc, test_loss_std, test_acc_std = get_data_with_std(file_name)\n",
    "test_acc_std_list.append(test_acc_std)\n",
    "\n",
    "\n",
    "print(np.around(test_acc_std_list, 4))\n",
    "\n"
   ]
  },
  {
   "cell_type": "code",
   "execution_count": 6,
   "id": "f1225b3a",
   "metadata": {},
   "outputs": [
    {
     "name": "stdout",
     "output_type": "stream",
     "text": [
      "[0.075  0.0384 0.1235 0.0328 0.0085]\n"
     ]
    }
   ],
   "source": [
    "test_acc_std_list = []\n",
    "\n",
    "file_name = \"real_pubmed_IID_centralized_GCN_iter_300\"\n",
    "train_loss, train_acc, val_loss, val_acc, test_loss, test_acc, test_loss_std, test_acc_std = get_data_with_std(file_name)\n",
    "test_acc_std_list.append(test_acc_std)\n",
    "\n",
    "\n",
    "file_name = \"real_pubmed_IID_0.5_Block_federated_GCN_iter_300_epoch_3_device_num_3\"\n",
    "train_loss, train_acc, val_loss, val_acc, test_loss, test_acc, test_loss_std, test_acc_std = get_data_with_std(file_name)\n",
    "test_acc_std_list.append(test_acc_std)\n",
    "\n",
    "file_name = \"real_pubmed_IID_0.5_1hop_BDS_GCN_iter_300_epoch_3_device_num_3\"\n",
    "train_loss, train_acc, val_loss, val_acc, test_loss, test_acc, test_loss_std, test_acc_std = get_data_with_std(file_name)\n",
    "test_acc_std_list.append(test_acc_std)\n",
    "\n",
    "file_name = \"real_pubmed_IID_0.5_1hop_Block_federated_GCN_iter_300_epoch_3_device_num_3\"\n",
    "train_loss, train_acc, val_loss, val_acc, test_loss, test_acc, test_loss_std, test_acc_std = get_data_with_std(file_name)\n",
    "test_acc_std_list.append(test_acc_std)\n",
    "\n",
    "file_name = \"real_pubmed_IID_0.5_2hop_Block_federated_GCN_iter_300_epoch_3_device_num_3\"\n",
    "train_loss, train_acc, val_loss, val_acc, test_loss, test_acc, test_loss_std, test_acc_std = get_data_with_std(file_name)\n",
    "test_acc_std_list.append(test_acc_std)\n",
    "\n",
    "\n",
    "print(np.around(test_acc_std_list, 4))"
   ]
  },
  {
   "cell_type": "code",
   "execution_count": 7,
   "id": "ed4bebad",
   "metadata": {},
   "outputs": [
    {
     "name": "stdout",
     "output_type": "stream",
     "text": [
      "[0.075  0.067  0.0181 0.052  0.0691]\n"
     ]
    }
   ],
   "source": [
    "test_acc_std_list = []\n",
    "\n",
    "file_name = \"real_pubmed_IID_centralized_GCN_iter_300\"\n",
    "train_loss, train_acc, val_loss, val_acc, test_loss, test_acc, test_loss_std, test_acc_std = get_data_with_std(file_name)\n",
    "test_acc_std_list.append(test_acc_std)\n",
    "\n",
    "\n",
    "file_name = \"real_pubmed_IID_0.0_Block_federated_GCN_iter_300_epoch_3_device_num_3\"\n",
    "train_loss, train_acc, val_loss, val_acc, test_loss, test_acc, test_loss_std, test_acc_std = get_data_with_std(file_name)\n",
    "test_acc_std_list.append(test_acc_std)\n",
    "\n",
    "file_name = \"real_pubmed_IID_0.0_1hop_BDS_GCN_iter_300_epoch_3_device_num_3\"\n",
    "train_loss, train_acc, val_loss, val_acc, test_loss, test_acc, test_loss_std, test_acc_std = get_data_with_std(file_name)\n",
    "test_acc_std_list.append(test_acc_std)\n",
    "\n",
    "file_name = \"real_pubmed_IID_0.0_1hop_Block_federated_GCN_iter_300_epoch_3_device_num_3\"\n",
    "train_loss, train_acc, val_loss, val_acc, test_loss, test_acc, test_loss_std, test_acc_std = get_data_with_std(file_name)\n",
    "test_acc_std_list.append(test_acc_std)\n",
    "\n",
    "file_name = \"real_pubmed_IID_0.0_2hop_Block_federated_GCN_iter_300_epoch_3_device_num_3\"\n",
    "train_loss, train_acc, val_loss, val_acc, test_loss, test_acc, test_loss_std, test_acc_std = get_data_with_std(file_name)\n",
    "test_acc_std_list.append(test_acc_std)\n",
    "\n",
    "\n",
    "print(np.around(test_acc_std_list, 4))"
   ]
  },
  {
   "cell_type": "code",
   "execution_count": null,
   "id": "f1bbbb9d",
   "metadata": {},
   "outputs": [],
   "source": []
  },
  {
   "cell_type": "code",
   "execution_count": null,
   "id": "b5c3e6b0",
   "metadata": {},
   "outputs": [],
   "source": []
  }
 ],
 "metadata": {
  "kernelspec": {
   "display_name": "Python 3 (ipykernel)",
   "language": "python",
   "name": "python3"
  },
  "language_info": {
   "codemirror_mode": {
    "name": "ipython",
    "version": 3
   },
   "file_extension": ".py",
   "mimetype": "text/x-python",
   "name": "python",
   "nbconvert_exporter": "python",
   "pygments_lexer": "ipython3",
   "version": "3.10.4"
  }
 },
 "nbformat": 4,
 "nbformat_minor": 5
}
